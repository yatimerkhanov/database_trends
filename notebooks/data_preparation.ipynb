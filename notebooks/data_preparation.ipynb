{
 "cells": [
  {
   "cell_type": "code",
   "execution_count": 3,
   "metadata": {},
   "outputs": [],
   "source": [
    "import numpy as np\n",
    "import pandas as pd\n",
    "import uuid"
   ]
  },
  {
   "cell_type": "markdown",
   "metadata": {},
   "source": [
    "## Описание проекта и предметной области\n",
    "Я бывший администратор баз данных Oracle с большим опытом и знаниями многих аспектов работы БД.\n",
    "\n",
    "В арсенал инструментов администраторов БД Oracle (DBA) есть портал Oracle Enterprise Manager (OEM), который позволяет управлять работой многих систем, построенных преимущественно на основе технологий Oracle. Среди прочего функционала OEM собирает и хранит для последующего анализа информацию о конфигурациях компонентов. \n",
    "Информации действительно много и она затрагивает почти все особенности ежесекундной работы БД Oracle. В самом OEM есть инструструменты для анализа и визуализации этих данных, но сам сервис немного перегружен функционалом и может ощутимо медленно работать.\n",
    "\n",
    "Мне всегда было интересно, как эти данные можно использовать для анализа и прогнозирования работы данных. Но обычно DBA не заходит дальше, чем построить некий график на период времени в прошлом, что мало информативное и обычно выглядит как мельтешение кривых. В последних версиях Oracle сам пытается внедрить интеллектуальный анализ статистики, но я это не смотрел, потому что ушел от администрирования БД."
   ]
  },
  {
   "cell_type": "markdown",
   "metadata": {},
   "source": [
    "Сейчас у меня есть доступ до БД мониторинга тестовых сред. Я сделал исследование, как это храниться внутри и как можно удобно выгрузить для импорта в pandas."
   ]
  },
  {
   "cell_type": "markdown",
   "metadata": {},
   "source": [
    "Запрос, которым посмотрел все метрики, которые доступны, всего их более 200:\n",
    "\n",
    "`select distinct metric_name, metric_column, metric_label from sysman.mgmt$metric_daily`\n",
    "\n",
    "Работа по определению что за что отвечает и что показывает достойна отдельного исследования, потому что официального описания внутренней структуры БД OEM нет."
   ]
  },
  {
   "cell_type": "code",
   "execution_count": 2,
   "metadata": {},
   "outputs": [
    {
     "name": "stdout",
     "output_type": "stream",
     "text": [
      "['sample_redosize1.csv', 'metrics.csv', 'database_original.csv', 'sample_dbtime2.csv', 'sample_dbsize1.csv', 'sample_dbsize2.csv', 'sample_dbtime1.csv', 'database_data.csv']\n"
     ]
    }
   ],
   "source": [
    "import os\n",
    "print(os.listdir(\"../input\"))"
   ]
  },
  {
   "cell_type": "code",
   "execution_count": 3,
   "metadata": {},
   "outputs": [],
   "source": [
    "metrict = pd.read_csv(\"../input/metrics.csv\", decimal=',', index_col=False)"
   ]
  },
  {
   "cell_type": "code",
   "execution_count": 4,
   "metadata": {},
   "outputs": [
    {
     "data": {
      "text/html": [
       "<div>\n",
       "<style scoped>\n",
       "    .dataframe tbody tr th:only-of-type {\n",
       "        vertical-align: middle;\n",
       "    }\n",
       "\n",
       "    .dataframe tbody tr th {\n",
       "        vertical-align: top;\n",
       "    }\n",
       "\n",
       "    .dataframe thead th {\n",
       "        text-align: right;\n",
       "    }\n",
       "</style>\n",
       "<table border=\"1\" class=\"dataframe\">\n",
       "  <thead>\n",
       "    <tr style=\"text-align: right;\">\n",
       "      <th></th>\n",
       "      <th>metric_name</th>\n",
       "      <th>metric_column</th>\n",
       "      <th>metric_label</th>\n",
       "    </tr>\n",
       "  </thead>\n",
       "  <tbody>\n",
       "    <tr>\n",
       "      <th>14</th>\n",
       "      <td>instance_throughput</td>\n",
       "      <td>physreads_pt</td>\n",
       "      <td>Throughput</td>\n",
       "    </tr>\n",
       "    <tr>\n",
       "      <th>46</th>\n",
       "      <td>instance_throughput</td>\n",
       "      <td>enqtimeouts_ps</td>\n",
       "      <td>Throughput</td>\n",
       "    </tr>\n",
       "    <tr>\n",
       "      <th>36</th>\n",
       "      <td>instance_throughput</td>\n",
       "      <td>rollbacks_pt</td>\n",
       "      <td>Throughput</td>\n",
       "    </tr>\n",
       "    <tr>\n",
       "      <th>131</th>\n",
       "      <td>instance_throughput</td>\n",
       "      <td>logreads_ps</td>\n",
       "      <td>Throughput</td>\n",
       "    </tr>\n",
       "    <tr>\n",
       "      <th>175</th>\n",
       "      <td>instance_throughput</td>\n",
       "      <td>physreads_ps</td>\n",
       "      <td>Throughput</td>\n",
       "    </tr>\n",
       "  </tbody>\n",
       "</table>\n",
       "</div>"
      ],
      "text/plain": [
       "             metric_name   metric_column metric_label\n",
       "14   instance_throughput    physreads_pt   Throughput\n",
       "46   instance_throughput  enqtimeouts_ps   Throughput\n",
       "36   instance_throughput    rollbacks_pt   Throughput\n",
       "131  instance_throughput     logreads_ps   Throughput\n",
       "175  instance_throughput    physreads_ps   Throughput"
      ]
     },
     "execution_count": 4,
     "metadata": {},
     "output_type": "execute_result"
    }
   ],
   "source": [
    "metrict.sample(5)"
   ]
  },
  {
   "cell_type": "markdown",
   "metadata": {},
   "source": [
    "Выбрал несколько метрик, для примера — это объем БД в Гб(SIZE_GB), объем изменений в Мб(REDOSIZE_MB), средняя нагрузка (DBTIME) по дням. Данные есть за несколько лет, с 2017 года примерно."
   ]
  },
  {
   "cell_type": "markdown",
   "metadata": {},
   "source": [
    "Запрос для формирования финальной выгрузки:\n",
    "\n",
    "`SELECT database,\n",
    "       target_guid,\n",
    "       rollup_timestamp,\n",
    "       ROUND (SUM (DECODE (metric_column, 'redosize_pt', maximum)) / 1024 / 1024, 3) redosize_gb,\n",
    "       ROUND (SUM (DECODE (metric_column, 'dbtime_pt', maximum)), 3) dbtime,\n",
    "       ROUND (SUM (DECODE (metric_column, 'USED_GB', maximum)), 3) used_gb\n",
    "  FROM (SELECT target_name database,\n",
    "               target_guid,\n",
    "               rollup_timestamp,\n",
    "               key_value tb,\n",
    "               metric_column,\n",
    "               ROUND (MAX (maximum), 0) maximum\n",
    "          FROM sysman.mgmt$metric_daily\n",
    "         WHERE     metric_name IN ('instance_throughput', 'DATABASE_SIZE')\n",
    "               AND metric_column IN ('redosize_pt', 'dbtime_pt', 'USED_GB')\n",
    "        GROUP BY target_name,\n",
    "                 target_guid,\n",
    "                 key_value,\n",
    "                 rollup_timestamp,\n",
    "                 metric_column)\n",
    "GROUP BY database, target_guid, rollup_timestamp\n",
    "ORDER BY database, target_guid, rollup_timestamp\n",
    "/`"
   ]
  },
  {
   "cell_type": "markdown",
   "metadata": {},
   "source": [
    "## Обезличивание исходных данных и подготовка нескольких примеров"
   ]
  },
  {
   "cell_type": "markdown",
   "metadata": {},
   "source": [
    "Исходные данные имеют значения для имени БД в формате SID_имя_сервера, что может быть расценено как конфиденциальная инфомация, поэтому заменяю на рандомные uuid'ы."
   ]
  },
  {
   "cell_type": "code",
   "execution_count": 19,
   "metadata": {},
   "outputs": [],
   "source": [
    "database_original = pd.read_csv(\"./input/tablespace_original.csv\", decimal=',', index_col=False"
   ]
  },
  {
   "cell_type": "code",
   "execution_count": 20,
   "metadata": {},
   "outputs": [],
   "source": [
    "lowercase = lambda x: str(x).lower()\n",
    "database_original.rename(lowercase, axis=\"columns\", inplace=True)\n",
    "database_original['rollup_timestamp'] = pd.to_datetime(database_original['rollup_timestamp'], format = '%d.%m.%Y')\n",
    "database_original = database_original.set_index('rollup_timestamp')"
   ]
  },
  {
   "cell_type": "code",
   "execution_count": 5,
   "metadata": {},
   "outputs": [],
   "source": [
    "uuids = [str(uuid.uuid4()) for x in range(len(database_original['database'].drop_duplicates()))]"
   ]
  },
  {
   "cell_type": "code",
   "execution_count": 6,
   "metadata": {},
   "outputs": [],
   "source": [
    "deperson_map = dict(zip(database_original['database'].drop_duplicates(), uuids))"
   ]
  },
  {
   "cell_type": "code",
   "execution_count": 8,
   "metadata": {},
   "outputs": [],
   "source": [
    "database_data = database_original.copy()\n",
    "database_data['database'] = database_data['database'].map(deperson_map)"
   ]
  },
  {
   "cell_type": "code",
   "execution_count": 9,
   "metadata": {},
   "outputs": [],
   "source": [
    "tablespace_data.to_csv('../input/database_data.csv')"
   ]
  },
  {
   "cell_type": "markdown",
   "metadata": {},
   "source": [
    "### Итоговый данные"
   ]
  },
  {
   "cell_type": "code",
   "execution_count": 4,
   "metadata": {},
   "outputs": [],
   "source": [
    "database_data = pd.read_csv(\"../input/database_data.csv\", decimal=',', index_col=False)\n",
    "database_data = database_data.set_index('rollup_timestamp')"
   ]
  },
  {
   "cell_type": "code",
   "execution_count": 13,
   "metadata": {},
   "outputs": [
    {
     "data": {
      "text/html": [
       "<div>\n",
       "<style scoped>\n",
       "    .dataframe tbody tr th:only-of-type {\n",
       "        vertical-align: middle;\n",
       "    }\n",
       "\n",
       "    .dataframe tbody tr th {\n",
       "        vertical-align: top;\n",
       "    }\n",
       "\n",
       "    .dataframe thead th {\n",
       "        text-align: right;\n",
       "    }\n",
       "</style>\n",
       "<table border=\"1\" class=\"dataframe\">\n",
       "  <thead>\n",
       "    <tr style=\"text-align: right;\">\n",
       "      <th></th>\n",
       "      <th>database</th>\n",
       "      <th>redosize_mb</th>\n",
       "      <th>dbtime</th>\n",
       "      <th>size_gd</th>\n",
       "    </tr>\n",
       "    <tr>\n",
       "      <th>rollup_timestamp</th>\n",
       "      <th></th>\n",
       "      <th></th>\n",
       "      <th></th>\n",
       "      <th></th>\n",
       "    </tr>\n",
       "  </thead>\n",
       "  <tbody>\n",
       "    <tr>\n",
       "      <th>2019-04-11</th>\n",
       "      <td>e859c352-1087-4602-a410-77845a1ad2f6</td>\n",
       "      <td>606.0</td>\n",
       "      <td>83.0</td>\n",
       "      <td>396.0</td>\n",
       "    </tr>\n",
       "    <tr>\n",
       "      <th>2019-04-12</th>\n",
       "      <td>e859c352-1087-4602-a410-77845a1ad2f6</td>\n",
       "      <td>2328.0</td>\n",
       "      <td>649.0</td>\n",
       "      <td>824.0</td>\n",
       "    </tr>\n",
       "    <tr>\n",
       "      <th>2019-04-13</th>\n",
       "      <td>e859c352-1087-4602-a410-77845a1ad2f6</td>\n",
       "      <td>1221.0</td>\n",
       "      <td>33.0</td>\n",
       "      <td>232.0</td>\n",
       "    </tr>\n",
       "    <tr>\n",
       "      <th>2019-04-14</th>\n",
       "      <td>e859c352-1087-4602-a410-77845a1ad2f6</td>\n",
       "      <td>246.0</td>\n",
       "      <td>661.0</td>\n",
       "      <td>107.0</td>\n",
       "    </tr>\n",
       "    <tr>\n",
       "      <th>2019-04-15</th>\n",
       "      <td>e859c352-1087-4602-a410-77845a1ad2f6</td>\n",
       "      <td>1610.0</td>\n",
       "      <td>665.0</td>\n",
       "      <td>504.0</td>\n",
       "    </tr>\n",
       "    <tr>\n",
       "      <th>...</th>\n",
       "      <td>...</td>\n",
       "      <td>...</td>\n",
       "      <td>...</td>\n",
       "      <td>...</td>\n",
       "    </tr>\n",
       "    <tr>\n",
       "      <th>2020-03-18</th>\n",
       "      <td>fe4dd1a0-9bf2-40d6-8950-d52c9af1c0f7</td>\n",
       "      <td>175.0</td>\n",
       "      <td>673.0</td>\n",
       "      <td>41.0</td>\n",
       "    </tr>\n",
       "    <tr>\n",
       "      <th>2020-03-19</th>\n",
       "      <td>fe4dd1a0-9bf2-40d6-8950-d52c9af1c0f7</td>\n",
       "      <td>698.0</td>\n",
       "      <td>276.0</td>\n",
       "      <td>42.0</td>\n",
       "    </tr>\n",
       "    <tr>\n",
       "      <th>2020-03-20</th>\n",
       "      <td>fe4dd1a0-9bf2-40d6-8950-d52c9af1c0f7</td>\n",
       "      <td>576.0</td>\n",
       "      <td>941.0</td>\n",
       "      <td>41.0</td>\n",
       "    </tr>\n",
       "    <tr>\n",
       "      <th>2020-03-21</th>\n",
       "      <td>fe4dd1a0-9bf2-40d6-8950-d52c9af1c0f7</td>\n",
       "      <td>582.0</td>\n",
       "      <td>755.0</td>\n",
       "      <td>42.0</td>\n",
       "    </tr>\n",
       "    <tr>\n",
       "      <th>2020-03-22</th>\n",
       "      <td>fe4dd1a0-9bf2-40d6-8950-d52c9af1c0f7</td>\n",
       "      <td>579.0</td>\n",
       "      <td>32.0</td>\n",
       "      <td>41.0</td>\n",
       "    </tr>\n",
       "  </tbody>\n",
       "</table>\n",
       "<p>293572 rows × 4 columns</p>\n",
       "</div>"
      ],
      "text/plain": [
       "                                              database redosize_mb dbtime  \\\n",
       "rollup_timestamp                                                            \n",
       "2019-04-11        e859c352-1087-4602-a410-77845a1ad2f6       606.0   83.0   \n",
       "2019-04-12        e859c352-1087-4602-a410-77845a1ad2f6      2328.0  649.0   \n",
       "2019-04-13        e859c352-1087-4602-a410-77845a1ad2f6      1221.0   33.0   \n",
       "2019-04-14        e859c352-1087-4602-a410-77845a1ad2f6       246.0  661.0   \n",
       "2019-04-15        e859c352-1087-4602-a410-77845a1ad2f6      1610.0  665.0   \n",
       "...                                                ...         ...    ...   \n",
       "2020-03-18        fe4dd1a0-9bf2-40d6-8950-d52c9af1c0f7       175.0  673.0   \n",
       "2020-03-19        fe4dd1a0-9bf2-40d6-8950-d52c9af1c0f7       698.0  276.0   \n",
       "2020-03-20        fe4dd1a0-9bf2-40d6-8950-d52c9af1c0f7       576.0  941.0   \n",
       "2020-03-21        fe4dd1a0-9bf2-40d6-8950-d52c9af1c0f7       582.0  755.0   \n",
       "2020-03-22        fe4dd1a0-9bf2-40d6-8950-d52c9af1c0f7       579.0   32.0   \n",
       "\n",
       "                 size_gd  \n",
       "rollup_timestamp          \n",
       "2019-04-11         396.0  \n",
       "2019-04-12         824.0  \n",
       "2019-04-13         232.0  \n",
       "2019-04-14         107.0  \n",
       "2019-04-15         504.0  \n",
       "...                  ...  \n",
       "2020-03-18          41.0  \n",
       "2020-03-19          42.0  \n",
       "2020-03-20          41.0  \n",
       "2020-03-21          42.0  \n",
       "2020-03-22          41.0  \n",
       "\n",
       "[293572 rows x 4 columns]"
      ]
     },
     "execution_count": 13,
     "metadata": {},
     "output_type": "execute_result"
    }
   ],
   "source": [
    "database_data"
   ]
  },
  {
   "cell_type": "code",
   "execution_count": 11,
   "metadata": {},
   "outputs": [
    {
     "data": {
      "text/plain": [
       "(293572, 5)"
      ]
     },
     "execution_count": 11,
     "metadata": {},
     "output_type": "execute_result"
    }
   ],
   "source": [
    "database_data.shape"
   ]
  }
 ],
 "metadata": {
  "kernelspec": {
   "display_name": "ml37",
   "language": "python",
   "name": "ml37"
  },
  "language_info": {
   "codemirror_mode": {
    "name": "ipython",
    "version": 3
   },
   "file_extension": ".py",
   "mimetype": "text/x-python",
   "name": "python",
   "nbconvert_exporter": "python",
   "pygments_lexer": "ipython3",
   "version": "3.7.6"
  }
 },
 "nbformat": 4,
 "nbformat_minor": 4
}
